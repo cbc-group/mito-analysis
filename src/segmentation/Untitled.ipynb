{
 "cells": [
  {
   "cell_type": "code",
   "execution_count": 1,
   "metadata": {},
   "outputs": [],
   "source": [
    "from IPython.core.pylabtools import figsize\n",
    "figsize(12, 6)\n",
    "\n",
    "import imageio\n",
    "import matplotlib.pyplot as plt\n",
    "import numpy as np\n",
    "from utoolbox.data  import SPIMDataset\n",
    "\n"
   ]
  },
  {
   "cell_type": "code",
   "execution_count": null,
   "metadata": {},
   "outputs": [
    {
     "name": "stderr",
     "output_type": "stream",
     "text": [
      "unable to parse the timestamp\n",
      "unknown section \".ini File\", ignored\n"
     ]
    },
    {
     "name": "stdout",
     "output_type": "stream",
     "text": [
      "G:/Vins/Mito_Binarization/11292017/c6_zp3_7ms_1s\\predict\n"
     ]
    }
   ],
   "source": [
    "from utils import find_dataset_dir, data_dirs\n",
    "\n",
    "dataset_name = 'predict'\n",
    "path = find_dataset_dir(dataset_name)\n",
    "print(path)\n",
    "dataset = SPIMDataset(path)\n",
    "\n",
    "dataset_name_decon = 'predict_deconv'\n",
    "path_decon = find_dataset_dir(dataset_name_decon)\n",
    "print(path_decon)\n",
    "dataset_decon = SPIMDataset(path_decon)"
   ]
  },
  {
   "cell_type": "code",
   "execution_count": 1,
   "metadata": {},
   "outputs": [
    {
     "ename": "NameError",
     "evalue": "name 'dataset' is not defined",
     "output_type": "error",
     "traceback": [
      "\u001b[1;31m---------------------------------------------------------------------------\u001b[0m",
      "\u001b[1;31mNameError\u001b[0m                                 Traceback (most recent call last)",
      "\u001b[1;32m<ipython-input-1-3ce07b4161db>\u001b[0m in \u001b[0;36m<module>\u001b[1;34m\u001b[0m\n\u001b[1;32m----> 1\u001b[1;33m \u001b[0mprint\u001b[0m\u001b[1;33m(\u001b[0m\u001b[0mlist\u001b[0m\u001b[1;33m(\u001b[0m\u001b[0mdataset\u001b[0m\u001b[1;33m.\u001b[0m\u001b[0mkeys\u001b[0m\u001b[1;33m(\u001b[0m\u001b[1;33m)\u001b[0m\u001b[1;33m)\u001b[0m\u001b[1;33m)\u001b[0m\u001b[1;33m\u001b[0m\u001b[1;33m\u001b[0m\u001b[0m\n\u001b[0m\u001b[0;32m      2\u001b[0m \u001b[0mprint\u001b[0m\u001b[1;33m(\u001b[0m\u001b[0mlist\u001b[0m\u001b[1;33m(\u001b[0m\u001b[0mdataset\u001b[0m\u001b[1;33m[\u001b[0m\u001b[1;34m'0'\u001b[0m\u001b[1;33m]\u001b[0m\u001b[1;33m.\u001b[0m\u001b[0mkeys\u001b[0m\u001b[1;33m(\u001b[0m\u001b[1;33m)\u001b[0m\u001b[1;33m)\u001b[0m\u001b[1;33m[\u001b[0m\u001b[1;33m:\u001b[0m\u001b[1;36m3\u001b[0m\u001b[1;33m]\u001b[0m\u001b[1;33m)\u001b[0m\u001b[1;33m\u001b[0m\u001b[1;33m\u001b[0m\u001b[0m\n\u001b[0;32m      3\u001b[0m \u001b[0mimage\u001b[0m \u001b[1;33m=\u001b[0m \u001b[0mdataset\u001b[0m\u001b[1;33m[\u001b[0m\u001b[1;34m'0'\u001b[0m\u001b[1;33m]\u001b[0m\u001b[1;33m[\u001b[0m\u001b[1;34m'c6_ch0_stack0322_488nm_0319851msec_0006234971msecAbs'\u001b[0m\u001b[1;33m]\u001b[0m\u001b[1;33m\u001b[0m\u001b[1;33m\u001b[0m\u001b[0m\n\u001b[0;32m      4\u001b[0m \u001b[0mplt\u001b[0m\u001b[1;33m.\u001b[0m\u001b[0msubplot\u001b[0m\u001b[1;33m(\u001b[0m\u001b[1;36m121\u001b[0m\u001b[1;33m)\u001b[0m\u001b[1;33m\u001b[0m\u001b[1;33m\u001b[0m\u001b[0m\n\u001b[0;32m      5\u001b[0m \u001b[0mplt\u001b[0m\u001b[1;33m.\u001b[0m\u001b[0mimshow\u001b[0m\u001b[1;33m(\u001b[0m\u001b[0mimage\u001b[0m\u001b[1;33m.\u001b[0m\u001b[0mmax\u001b[0m\u001b[1;33m(\u001b[0m\u001b[0maxis\u001b[0m\u001b[1;33m=\u001b[0m\u001b[1;36m0\u001b[0m\u001b[1;33m)\u001b[0m\u001b[1;33m)\u001b[0m\u001b[1;33m\u001b[0m\u001b[1;33m\u001b[0m\u001b[0m\n",
      "\u001b[1;31mNameError\u001b[0m: name 'dataset' is not defined"
     ]
    }
   ],
   "source": [
    "print(list(dataset.keys()))\n",
    "print(list(dataset['0'].keys())[:3])\n",
    "image = dataset['0']['c6_ch0_stack0322_488nm_0319851msec_0006234971msecAbs']\n",
    "plt.subplot(121)\n",
    "plt.imshow(image.max(axis=0))\n",
    "\n",
    "print(list(dataset_decon.keys()))\n",
    "print(list(dataset_decon['0'].keys())[:3])\n",
    "image_decon = dataset_decon['0']['c6_ch0_stack0322_488nm_0319851msec_0006234971msecAbs_decon']\n",
    "plt.subplot(122)\n",
    "plt.imshow(image_decon.max(axis=0))\n",
    "\n"
   ]
  },
  {
   "cell_type": "code",
   "execution_count": null,
   "metadata": {},
   "outputs": [],
   "source": [
    "from skimage.transform import resize\n",
    "img_resize = resize(image_decon, (140,512,512))\n",
    "print(img_resize.dtype)\n",
    "\n",
    "from skimage.filters import median\n",
    "from skimage.morphology import cube\n",
    "\n",
    "mask = cube(3)\n",
    "img_med = image.copy()\n",
    "for i in range(10):\n",
    "    print(f'iter {i}')\n",
    "    img_med = median(img_med, mask)\n",
    "\n",
    "means = []\n",
    "for layer in img_med:\n",
    "    means.append(layer.mean())\n",
    "means = np.array(means)\n",
    "\n",
    "mean, median = means.mean(), np.median(means)\n",
    "print(f'mean: {mean:.1f}, median: {median:.1f}')\n",
    "\n"
   ]
  },
  {
   "cell_type": "code",
   "execution_count": null,
   "metadata": {},
   "outputs": [],
   "source": [
    "from skimage.filters import apply_hysteresis_threshold\n",
    "\n",
    "img_hyst = apply_hysteresis_threshold(img_med, mean, median)\n",
    "plt.imshow(img_hyst[36, ...])\n",
    "print(img_hyst.shape)\n",
    "\n"
   ]
  },
  {
   "cell_type": "code",
   "execution_count": null,
   "metadata": {},
   "outputs": [],
   "source": [
    "from scipy.ndimage.morphology import binary_fill_holes\n",
    "\n",
    "img_filled = binary_fill_holes(img_hyst)\n",
    "plt.imshow(img_filled[36, ...])\n",
    "\n",
    "imageio.volwrite('img_filled.tif', img_filled.astype(np.uint8))"
   ]
  },
  {
   "cell_type": "code",
   "execution_count": null,
   "metadata": {},
   "outputs": [],
   "source": [
    "from scipy.ndimage.measurements import label\n",
    "\n",
    "img_label, n_features = label(img_filled)\n",
    "print(n_features)\n",
    "print(f'img_filled: {img_filled.dtype}')\n",
    "print(f'label_dtype: {img_label.dtype}')\n",
    "plt.subplot(121)\n",
    "plt.imshow(img_filled[36, ...])\n",
    "plt.subplot(122)\n",
    "plt.imshow(img_label[36, ...])\n",
    "\n",
    "volumes = [(index, (img_label == index).sum()) for index in range(n_features)]\n",
    "volumes.sort(key=lambda x: x[1])\n",
    "print(volumes)\n",
    "\n",
    "# 1st: background\n",
    "threshold = volumes[-2][1] // 2\n",
    "print(f'threshold: {threshold}')\n",
    "\n",
    "img_kept = np.zeros_like(img_label)\n",
    "# keep objects above threshold\n",
    "for index, volume in volumes[:-1]:\n",
    "    if volume > threshold:\n",
    "        img_kept[img_label == index] = 1\n",
    "img_kept = img_kept.astype(np.bool)\n",
    "\n",
    "imageio.volwrite('img_kept.tif', img_kept.astype(np.uint8))\n",
    "print(img_kept.dtype)\n",
    "plt.imshow(img_kept[36, ...])"
   ]
  }
 ],
 "metadata": {
  "kernelspec": {
   "display_name": "Mito Analysis",
   "language": "python",
   "name": "mito-analysis"
  },
  "language_info": {
   "codemirror_mode": {
    "name": "ipython",
    "version": 3
   },
   "file_extension": ".py",
   "mimetype": "text/x-python",
   "name": "python",
   "nbconvert_exporter": "python",
   "pygments_lexer": "ipython3",
   "version": "3.7.4"
  }
 },
 "nbformat": 4,
 "nbformat_minor": 4
}
