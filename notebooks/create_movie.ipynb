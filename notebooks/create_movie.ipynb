{
 "cells": [
  {
   "cell_type": "code",
   "execution_count": 1,
   "metadata": {},
   "outputs": [],
   "source": [
    "from moviepy.editor import *\n",
    "\n",
    "import imageio\n",
    "from utoolbox.data.datastore import ImageFolderDatastore\n",
    "from utils import find_dataset_dir"
   ]
  },
  {
   "cell_type": "code",
   "execution_count": 2,
   "metadata": {},
   "outputs": [],
   "source": [
    "# raw\n",
    "path = find_dataset_dir('_movie/raw')\n",
    "ds_raw = ImageFolderDatastore(path, read_func=imageio.volread)\n",
    "clip_raw = ImageSequenceClip(list(ds_raw._uri.values()), fps=25)"
   ]
  },
  {
   "cell_type": "code",
   "execution_count": 3,
   "metadata": {},
   "outputs": [],
   "source": [
    "# n2v_deconv\n",
    "path = find_dataset_dir('_movie/predict_decon')\n",
    "ds_n2v = ImageFolderDatastore(path, read_func=imageio.volread)\n",
    "clip_n2v = ImageSequenceClip(list(ds_n2v._uri.values()), fps=25)"
   ]
  },
  {
   "cell_type": "code",
   "execution_count": 7,
   "metadata": {},
   "outputs": [],
   "source": [
    "# surface\n",
    "path = find_dataset_dir('_movie/seg')\n",
    "ds_seg = ImageFolderDatastore(path, read_func=imageio.volread)\n",
    "clip_seg = ImageSequenceClip(list(ds_seg._uri.values()), fps=25)"
   ]
  },
  {
   "cell_type": "code",
   "execution_count": 4,
   "metadata": {},
   "outputs": [],
   "source": [
    "# graph\n",
    "path = find_dataset_dir('_movie/graph')\n",
    "ds_graph = ImageFolderDatastore(path, read_func=imageio.volread)\n",
    "clip_graph  = ImageSequenceClip(list(ds_graph._uri.values()), fps=25)"
   ]
  },
  {
   "cell_type": "code",
   "execution_count": 8,
   "metadata": {},
   "outputs": [
    {
     "name": "stdout",
     "output_type": "stream",
     "text": [
      "Moviepy - Building video test.mp4.\n",
      "Moviepy - Writing video test.mp4\n",
      "\n"
     ]
    },
    {
     "name": "stderr",
     "output_type": "stream",
     "text": [
      "                                                                                                                       \r"
     ]
    },
    {
     "name": "stdout",
     "output_type": "stream",
     "text": [
      "Moviepy - Done !\n",
      "Moviepy - video ready test.mp4\n"
     ]
    }
   ],
   "source": [
    "text_raw = TextClip('Raw', color='white', fontsize=24)\n",
    "final_raw = CompositeVideoClip([clip_raw, text_raw.set_pos((\"center\",\"top\"))])\n",
    "\n",
    "text_n2v = TextClip('N2V + RL', color='white', fontsize=24)\n",
    "final_n2v = CompositeVideoClip([clip_n2v, text_n2v.set_pos((\"center\",\"top\"))])\n",
    "\n",
    "text_seg = TextClip('Segmentation', color='white', fontsize=24)\n",
    "final_seg = CompositeVideoClip([clip_seg, text_seg.set_pos((\"center\",\"top\"))])\n",
    "\n",
    "text_graph = TextClip('Graph', color='white', fontsize=24)\n",
    "final_graph = CompositeVideoClip([clip_graph, text_graph.set_pos((\"center\",\"top\"))])\n",
    "\n",
    "final = clips_array([[final_raw, final_n2v],[final_seg, final_graph]])\n",
    "final.duration = 45\n",
    "final.write_videofile('test.mp4', fps=25)"
   ]
  },
  {
   "cell_type": "code",
   "execution_count": null,
   "metadata": {},
   "outputs": [],
   "source": []
  }
 ],
 "metadata": {
  "kernelspec": {
   "display_name": "Mito Analysis",
   "language": "python",
   "name": "mito-analysis"
  },
  "language_info": {
   "codemirror_mode": {
    "name": "ipython",
    "version": 3
   },
   "file_extension": ".py",
   "mimetype": "text/x-python",
   "name": "python",
   "nbconvert_exporter": "python",
   "pygments_lexer": "ipython3",
   "version": "3.7.4"
  }
 },
 "nbformat": 4,
 "nbformat_minor": 4
}
